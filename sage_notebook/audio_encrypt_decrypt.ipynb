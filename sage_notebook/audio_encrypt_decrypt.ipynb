{
 "cells": [
  {
   "cell_type": "code",
   "execution_count": 1,
   "metadata": {},
   "outputs": [],
   "source": [
    "import numpy as np\n",
    "import matplotlib.pyplot as plt\n",
    "# from IPython.display import Audio\n",
    "import struct"
   ]
  },
  {
   "cell_type": "code",
   "execution_count": 2,
   "metadata": {},
   "outputs": [
    {
     "name": "stdout",
     "output_type": "stream",
     "text": [
      "CPU times: user 2min 42s, sys: 141 ms, total: 2min 43s\n",
      "Wall time: 2min 43s\n"
     ]
    }
   ],
   "source": [
    "%%time\n",
    "from functions import *\n",
    "import wave\n",
    "import codecs"
   ]
  },
  {
   "cell_type": "code",
   "execution_count": 3,
   "metadata": {},
   "outputs": [
    {
     "name": "stdout",
     "output_type": "stream",
     "text": [
      "CPU times: user 297 ms, sys: 0 ns, total: 297 ms\n",
      "Wall time: 291 ms\n"
     ]
    }
   ],
   "source": [
    "%%time\n",
    "p = 2 ** 521 - 1\n",
    "# proof.arithmetic(False)\n",
    "F = GF(p)\n",
    "A = p-3\n",
    "B = 1093849038073734274511112390766805569936207598951683748994586394495953116150735016013708737573759623248592132296706313309438452531591012912142327488478985984\n",
    "E = EllipticCurve([F(A), F(B)])\n",
    "q = E.cardinality()"
   ]
  },
  {
   "cell_type": "code",
   "execution_count": 4,
   "metadata": {},
   "outputs": [],
   "source": [
    "audio = wave.open(f'audios/original/darude-sandstorm.wav')"
   ]
  },
  {
   "cell_type": "code",
   "execution_count": 5,
   "metadata": {},
   "outputs": [],
   "source": [
    "data = audio.readframes(audio.getnframes())"
   ]
  },
  {
   "cell_type": "code",
   "execution_count": 6,
   "metadata": {},
   "outputs": [],
   "source": [
    "data_str = str(data)[2:]"
   ]
  },
  {
   "cell_type": "code",
   "execution_count": 7,
   "metadata": {},
   "outputs": [
    {
     "name": "stdout",
     "output_type": "stream",
     "text": [
      "O ponto base é: \n",
      "(1517170073939555601116404231070315162506193085547539896090804811897594659976473108791118523609678296607537384059906196771712086987628328416301502219380750362 : 393037236212225261621598744794531829262425464575189797754518898364708993180378355849779258145193553127146986516343352954793097948134088306354523657296209074 : 1)\n"
     ]
    }
   ],
   "source": [
    "# %%time\n",
    "P = base_point(E)\n",
    "print(u'O ponto base é: ')\n",
    "print(P)"
   ]
  },
  {
   "cell_type": "code",
   "execution_count": 8,
   "metadata": {},
   "outputs": [
    {
     "name": "stdout",
     "output_type": "stream",
     "text": [
      "Chave Privada (Alice): 3584035698607628146612153800060913868889619073063725744158040818202313120783100541672041031358065102573236077751779664339647970830865929494218301866870071103 \n",
      " \n",
      "\n",
      "Chave Pública (Alice):\n",
      "(6497628109187366942642856884699550955796013228660564962339003275841676617365675167473865329970536480780494216688273703700720947012851370862193339455205874608 : 2175746939790082179982198561823308118149023737817446661461123713796533674486360060460662908523193070421052491346183343807987549395890407122474106830121164557 : 1)\n",
      "\n",
      "\n"
     ]
    }
   ],
   "source": [
    "# %%time\n",
    "alice_keys = generate_keys(E, P)\n",
    "\n",
    "print(u'Chave Privada (Alice): %s \\n \\n' %(alice_keys[0]))\n",
    "print(u'Chave Pública (Alice):')\n",
    "print(alice_keys[1])\n",
    "print('\\n')"
   ]
  },
  {
   "cell_type": "code",
   "execution_count": 9,
   "metadata": {},
   "outputs": [
    {
     "name": "stdout",
     "output_type": "stream",
     "text": [
      "Chave Privada (Bob): 1838501654837542816306541694174738130839275077135984835012865556500122404585864111183757561849371156472040324933087487706190499983973046979551902906096249982 \n",
      " \n",
      "\n",
      "Chave Pública (Bob):\n",
      "(6699548385228509040031419257979579525805044814594356385367526167858733614251462096889781690094976394177286017295120140972600685033845184197963971791345118534 : 654433420799571198368034482878366479630085973393396456615640904166562711144759460658283955784099262958958239136079714487047201879247042606879455495670419872 : 1)\n",
      "\n",
      "\n"
     ]
    }
   ],
   "source": [
    "# %%time\n",
    "bob_keys = generate_keys(E, P)\n",
    "\n",
    "print(u'Chave Privada (Bob): %s \\n \\n' %(bob_keys[0]))\n",
    "print(u'Chave Pública (Bob):')\n",
    "print(bob_keys[1])\n",
    "print('\\n')"
   ]
  },
  {
   "cell_type": "code",
   "execution_count": 10,
   "metadata": {},
   "outputs": [
    {
     "name": "stdout",
     "output_type": "stream",
     "text": [
      "CPU times: user 3h 57min 2s, sys: 1min 43s, total: 3h 58min 45s\n",
      "Wall time: 4h 14min 46s\n"
     ]
    }
   ],
   "source": [
    "%%time\n",
    "enc_data = encode(E, P, data_str, alice_keys[0], alice_keys[1],bob_keys[1])"
   ]
  },
  {
   "cell_type": "code",
   "execution_count": 11,
   "metadata": {
    "scrolled": false
   },
   "outputs": [
    {
     "name": "stdout",
     "output_type": "stream",
     "text": [
      "CPU times: user 1h 50min 49s, sys: 38.8 s, total: 1h 51min 28s\n",
      "Wall time: 1h 56min 16s\n"
     ]
    }
   ],
   "source": [
    "%%time\n",
    "dec_data = decode(E, P, enc_data, alice_keys[1], bob_keys[0])"
   ]
  },
  {
   "cell_type": "code",
   "execution_count": 12,
   "metadata": {},
   "outputs": [
    {
     "name": "stdout",
     "output_type": "stream",
     "text": [
      "CPU times: user 50min 39s, sys: 25.6 s, total: 51min 5s\n",
      "Wall time: 6h 54min\n"
     ]
    }
   ],
   "source": [
    "%%time\n",
    "dec_data_wrong1 = decode(E, P, enc_data, alice_keys[1], bob_keys[0] + 1)"
   ]
  },
  {
   "cell_type": "code",
   "execution_count": 13,
   "metadata": {},
   "outputs": [],
   "source": [
    "dec_data_wrong1_b = bytes(dec_data_wrong1, 'utf-8')"
   ]
  },
  {
   "cell_type": "code",
   "execution_count": 14,
   "metadata": {},
   "outputs": [],
   "source": [
    "# dec_data_wrong1_b = codecs.escape_decode(dec_data_wrong1.encode('utf-8'))[0]"
   ]
  },
  {
   "cell_type": "code",
   "execution_count": 15,
   "metadata": {},
   "outputs": [],
   "source": [
    "dec_data_b = codecs.escape_decode(dec_data.encode('utf-8'))[0]"
   ]
  },
  {
   "cell_type": "code",
   "execution_count": 16,
   "metadata": {},
   "outputs": [],
   "source": [
    "dec_data_b = dec_data_b[:-1]"
   ]
  },
  {
   "cell_type": "code",
   "execution_count": 17,
   "metadata": {},
   "outputs": [
    {
     "data": {
      "text/plain": [
       "True"
      ]
     },
     "execution_count": 17,
     "metadata": {},
     "output_type": "execute_result"
    }
   ],
   "source": [
    "dec_data == data_str"
   ]
  },
  {
   "cell_type": "code",
   "execution_count": 18,
   "metadata": {},
   "outputs": [
    {
     "data": {
      "text/plain": [
       "True"
      ]
     },
     "execution_count": 18,
     "metadata": {},
     "output_type": "execute_result"
    }
   ],
   "source": [
    "dec_data_b == data"
   ]
  },
  {
   "cell_type": "code",
   "execution_count": 19,
   "metadata": {},
   "outputs": [
    {
     "data": {
      "text/plain": [
       "44100"
      ]
     },
     "execution_count": 19,
     "metadata": {},
     "output_type": "execute_result"
    }
   ],
   "source": [
    "audio.getframerate()"
   ]
  },
  {
   "cell_type": "code",
   "execution_count": 20,
   "metadata": {},
   "outputs": [],
   "source": [
    "dec_audio_right = wave.open(\"audios/decrypted/darude-sandstorm_right.wav\", \"w\")\n",
    "dec_audio_right.setnchannels(audio.getnchannels())\n",
    "dec_audio_right.setsampwidth(audio.getsampwidth())\n",
    "dec_audio_right.setframerate(audio.getframerate())\n",
    "dec_audio_right.setcomptype('NONE', 'Not Compressed')\n",
    "dec_audio_right.writeframesraw(dec_data_b)\n",
    "dec_audio_right.close()"
   ]
  },
  {
   "cell_type": "code",
   "execution_count": 21,
   "metadata": {},
   "outputs": [],
   "source": [
    "dec_audio_wrong = wave.open(\"audios/decrypted/darude-sandstorm_wrong.wav\", \"w\")\n",
    "dec_audio_wrong.setnchannels(audio.getnchannels())\n",
    "dec_audio_wrong.setsampwidth(audio.getsampwidth())\n",
    "dec_audio_wrong.setframerate(audio.getframerate())\n",
    "dec_audio_wrong.setcomptype('NONE', 'Not Compressed')\n",
    "dec_audio_wrong.writeframesraw(dec_data_wrong1_b)\n",
    "dec_audio_wrong.close()"
   ]
  }
 ],
 "metadata": {
  "kernelspec": {
   "display_name": "SageMath 9.1",
   "language": "sage",
   "name": "sagemath"
  },
  "language_info": {
   "codemirror_mode": {
    "name": "ipython",
    "version": 3
   },
   "file_extension": ".py",
   "mimetype": "text/x-python",
   "name": "python",
   "nbconvert_exporter": "python",
   "pygments_lexer": "ipython3",
   "version": "3.7.8"
  }
 },
 "nbformat": 4,
 "nbformat_minor": 2
}
