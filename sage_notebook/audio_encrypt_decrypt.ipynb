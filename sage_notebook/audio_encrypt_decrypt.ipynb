{
 "cells": [
  {
   "cell_type": "code",
   "execution_count": 2,
   "metadata": {},
   "outputs": [],
   "source": [
    "import numpy as np\n",
    "import matplotlib.pyplot as plt\n",
    "# from IPython.display import Audio\n",
    "import struct"
   ]
  },
  {
   "cell_type": "code",
   "execution_count": 3,
   "metadata": {},
   "outputs": [
    {
     "name": "stdout",
     "output_type": "stream",
     "text": [
      "CPU times: user 3min 40s, sys: 266 ms, total: 3min 40s\n",
      "Wall time: 3min 40s\n"
     ]
    }
   ],
   "source": [
    "%%time\n",
    "from functions import *\n",
    "import wave\n",
    "import codecs"
   ]
  },
  {
   "cell_type": "code",
   "execution_count": 4,
   "metadata": {},
   "outputs": [
    {
     "name": "stdout",
     "output_type": "stream",
     "text": [
      "CPU times: user 281 ms, sys: 0 ns, total: 281 ms\n",
      "Wall time: 287 ms\n"
     ]
    }
   ],
   "source": [
    "%%time\n",
    "p = 2 ** 521 - 1\n",
    "# proof.arithmetic(False)\n",
    "F = GF(p)\n",
    "A = p-3\n",
    "B = 1093849038073734274511112390766805569936207598951683748994586394495953116150735016013708737573759623248592132296706313309438452531591012912142327488478985984\n",
    "E = EllipticCurve([F(A), F(B)])\n",
    "q = E.cardinality()"
   ]
  },
  {
   "cell_type": "code",
   "execution_count": 5,
   "metadata": {},
   "outputs": [],
   "source": [
    "audio = wave.open(f'audios/original/rick_astley.wav')"
   ]
  },
  {
   "cell_type": "code",
   "execution_count": 6,
   "metadata": {},
   "outputs": [],
   "source": [
    "data = audio.readframes(audio.getnframes())"
   ]
  },
  {
   "cell_type": "code",
   "execution_count": 7,
   "metadata": {},
   "outputs": [],
   "source": [
    "data_str = str(data)[2:]"
   ]
  },
  {
   "cell_type": "code",
   "execution_count": 8,
   "metadata": {},
   "outputs": [
    {
     "name": "stdout",
     "output_type": "stream",
     "text": [
      "O ponto base é: \n",
      "(6803506268652441665320126160432791443663323398140383480423506897862682731335287146943384777282917815923345590490286134867938869348333140091064957929971994539 : 4453799228694375628700582576752017664952796760350127373206270442208169482038182099051399579466443189314701438175562156611484090462679162685766910034348764683 : 1)\n"
     ]
    }
   ],
   "source": [
    "# %%time\n",
    "P = base_point(E)\n",
    "print(u'O ponto base é: ')\n",
    "print(P)"
   ]
  },
  {
   "cell_type": "code",
   "execution_count": 9,
   "metadata": {},
   "outputs": [
    {
     "name": "stdout",
     "output_type": "stream",
     "text": [
      "Chave Privada (Alice): 2934027355894682609719906250355397518772024858495111899989180015950176712158633740204176132930268433890307560973702243791214838302259403520924586570975594082 \n",
      " \n",
      "\n",
      "Chave Pública (Alice):\n",
      "(2933191266939757970944617582880093658776558325431749206872221773535175269169790738396625581880909771118433943094678576932114213709887772626057511893129137960 : 92030252321572394067321423942818034695132219268067152036101312713541404714731932510106133283106820521759426978366608598780203812470667686772981160193157221 : 1)\n",
      "\n",
      "\n"
     ]
    }
   ],
   "source": [
    "# %%time\n",
    "alice_keys = generate_keys(E, P)\n",
    "\n",
    "print(u'Chave Privada (Alice): %s \\n \\n' %(alice_keys[0]))\n",
    "print(u'Chave Pública (Alice):')\n",
    "print(alice_keys[1])\n",
    "print('\\n')"
   ]
  },
  {
   "cell_type": "code",
   "execution_count": 10,
   "metadata": {},
   "outputs": [
    {
     "name": "stdout",
     "output_type": "stream",
     "text": [
      "Chave Privada (Bob): 6362658894886954487538962306737022816301184062775702196799413059813207341783996418617553303350822823650001567872983141115514812280696733287012427603058698823 \n",
      " \n",
      "\n",
      "Chave Pública (Bob):\n",
      "(3306578564397256373982298631542616722724584583493783543800889287198303100953267839485851996525462080965099867865471334572611190001274746485605025080415954520 : 2946094982133288238612062422130922544405488378659931906678467745358072769022740652007311766285916404468122198597778147766044145178541354208087812016748693399 : 1)\n",
      "\n",
      "\n"
     ]
    }
   ],
   "source": [
    "# %%time\n",
    "bob_keys = generate_keys(E, P)\n",
    "\n",
    "print(u'Chave Privada (Bob): %s \\n \\n' %(bob_keys[0]))\n",
    "print(u'Chave Pública (Bob):')\n",
    "print(bob_keys[1])\n",
    "print('\\n')"
   ]
  },
  {
   "cell_type": "code",
   "execution_count": 11,
   "metadata": {},
   "outputs": [
    {
     "name": "stdout",
     "output_type": "stream",
     "text": [
      "CPU times: user 1h 57min 47s, sys: 1min 47s, total: 1h 59min 35s\n",
      "Wall time: 2h 18min 28s\n"
     ]
    }
   ],
   "source": [
    "%%time\n",
    "enc_data = encode(E, P, data_str, alice_keys[0], alice_keys[1],bob_keys[1])"
   ]
  },
  {
   "cell_type": "code",
   "execution_count": 12,
   "metadata": {
    "scrolled": false
   },
   "outputs": [
    {
     "name": "stdout",
     "output_type": "stream",
     "text": [
      "CPU times: user 35min 49s, sys: 25.7 s, total: 36min 15s\n",
      "Wall time: 36min 15s\n"
     ]
    }
   ],
   "source": [
    "%%time\n",
    "dec_data = decode(E, P, enc_data, alice_keys[1], bob_keys[0])"
   ]
  },
  {
   "cell_type": "code",
   "execution_count": 13,
   "metadata": {},
   "outputs": [
    {
     "name": "stdout",
     "output_type": "stream",
     "text": [
      "CPU times: user 35min 40s, sys: 9.81 s, total: 35min 49s\n",
      "Wall time: 35min 50s\n"
     ]
    }
   ],
   "source": [
    "%%time\n",
    "dec_data_wrong1 = decode(E, P, enc_data, alice_keys[1], bob_keys[0] + 1)"
   ]
  },
  {
   "cell_type": "code",
   "execution_count": 14,
   "metadata": {},
   "outputs": [],
   "source": [
    "dec_data_wrong1_b = bytes(dec_data_wrong1, 'utf-8')"
   ]
  },
  {
   "cell_type": "code",
   "execution_count": 15,
   "metadata": {},
   "outputs": [],
   "source": [
    "# dec_data_wrong1_b = codecs.escape_decode(dec_data_wrong1.encode('utf-8'))[0]"
   ]
  },
  {
   "cell_type": "code",
   "execution_count": 16,
   "metadata": {},
   "outputs": [],
   "source": [
    "dec_data_b = codecs.escape_decode(dec_data.encode('utf-8'))[0]"
   ]
  },
  {
   "cell_type": "code",
   "execution_count": 17,
   "metadata": {},
   "outputs": [],
   "source": [
    "dec_data_b = dec_data_b[:-1]"
   ]
  },
  {
   "cell_type": "code",
   "execution_count": 18,
   "metadata": {},
   "outputs": [
    {
     "data": {
      "text/plain": [
       "True"
      ]
     },
     "execution_count": 18,
     "metadata": {},
     "output_type": "execute_result"
    }
   ],
   "source": [
    "dec_data == data_str"
   ]
  },
  {
   "cell_type": "code",
   "execution_count": 19,
   "metadata": {},
   "outputs": [
    {
     "data": {
      "text/plain": [
       "True"
      ]
     },
     "execution_count": 19,
     "metadata": {},
     "output_type": "execute_result"
    }
   ],
   "source": [
    "dec_data_b == data"
   ]
  },
  {
   "cell_type": "code",
   "execution_count": 28,
   "metadata": {},
   "outputs": [
    {
     "data": {
      "text/plain": [
       "48000"
      ]
     },
     "execution_count": 28,
     "metadata": {},
     "output_type": "execute_result"
    }
   ],
   "source": [
    "audio.getframerate()"
   ]
  },
  {
   "cell_type": "code",
   "execution_count": 29,
   "metadata": {},
   "outputs": [],
   "source": [
    "dec_audio_right = wave.open(\"audios/decrypted/rick_astley_right.wav\", \"w\")\n",
    "dec_audio_right.setnchannels(audio.getnchannels())\n",
    "dec_audio_right.setsampwidth(audio.getsampwidth())\n",
    "dec_audio_right.setframerate(audio.getframerate())\n",
    "dec_audio_right.setcomptype('NONE', 'Not Compressed')\n",
    "dec_audio_right.writeframesraw(dec_data_b)\n",
    "dec_audio_right.close()"
   ]
  },
  {
   "cell_type": "code",
   "execution_count": 30,
   "metadata": {},
   "outputs": [],
   "source": [
    "dec_audio_wrong = wave.open(\"audios/decrypted/rick_astley_wrong.wav\", \"w\")\n",
    "dec_audio_wrong.setnchannels(audio.getnchannels())\n",
    "dec_audio_wrong.setsampwidth(audio.getsampwidth())\n",
    "dec_audio_wrong.setframerate(audio.getframerate())\n",
    "dec_audio_wrong.setcomptype('NONE', 'Not Compressed')\n",
    "dec_audio_wrong.writeframesraw(dec_data_wrong1_b)\n",
    "dec_audio_wrong.close()"
   ]
  },
  {
   "cell_type": "code",
   "execution_count": null,
   "metadata": {},
   "outputs": [],
   "source": []
  }
 ],
 "metadata": {
  "kernelspec": {
   "display_name": "SageMath 9.1",
   "language": "sage",
   "name": "sagemath"
  },
  "language_info": {
   "codemirror_mode": {
    "name": "ipython",
    "version": 3
   },
   "file_extension": ".py",
   "mimetype": "text/x-python",
   "name": "python",
   "nbconvert_exporter": "python",
   "pygments_lexer": "ipython3",
   "version": "3.7.8"
  }
 },
 "nbformat": 4,
 "nbformat_minor": 2
}
