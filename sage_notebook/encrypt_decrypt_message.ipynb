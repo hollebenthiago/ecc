{
 "cells": [
  {
   "cell_type": "code",
   "execution_count": 1,
   "metadata": {},
   "outputs": [],
   "source": [
    "def koblitz_encode(E, string):\n",
    "    A = E.a4()\n",
    "    B = E.a6()\n",
    "    p = E.base_field().cardinality()\n",
    "    b = 2^8\n",
    "    m = str(string)\n",
    "    n = len(m)\n",
    "    m = sum(ord(m[k]) * b^k for k in range(n))\n",
    "    d = 100\n",
    "    for j in range(d):\n",
    "        x = (d * m + j) % p\n",
    "        s = (x^3 + A * x + B) % p\n",
    "        print(j, x, s)\n",
    "        if s == power_mod(s, int((p+1)/2), p):\n",
    "            y = power_mod(s, int((p+1)/4), p)\n",
    "            return (E([x,y]))\n",
    "        \n",
    "def koblitz_decode(P):\n",
    "    b = 2^8\n",
    "    d = 100\n",
    "    lst = []\n",
    "    m = int((floor((P[0]/P[2])))/d)\n",
    "#     print(m)\n",
    "    while m != 0:\n",
    "        lst.append(chr(m % b))\n",
    "        m //= b\n",
    "        m = int(m)\n",
    "#         print(m)\n",
    "    return ''.join(lst)"
   ]
  },
  {
   "cell_type": "code",
   "execution_count": 2,
   "metadata": {},
   "outputs": [],
   "source": [
    "p = 2^521 - 1\n",
    "# proof.arithmetic(False)\n",
    "F = GF(p)\n",
    "A = p-3\n",
    "B = 1093849038073734274511112390766805569936207598951683748994586394495953116150735016013708737573759623248592132296706313309438452531591012912142327488478985984\n",
    "q = 6864797660130609714981900799081393217269435300143305409394463459185543183397655394245057746333217197532963996371363321113864768612440380340372808892707005449\n",
    "\n",
    "E = EllipticCurve([F(A), F(B)])"
   ]
  },
  {
   "cell_type": "code",
   "execution_count": 3,
   "metadata": {},
   "outputs": [
    {
     "name": "stdout",
     "output_type": "stream",
     "text": [
      "(0, 291161199342553698846618084130447376734269100, 1093849038073734274511137073912059443185896966470394013421350780698100023432440292297312920221340690239141806698364164465711227153331573871462363803647178684)\n",
      "(1, 291161199342553698846618084130447376734269101, 1093849038073734274511137073912059443185896966470394013421350780698354347964448075174733346761944212370065579393404019541904287099656411517708448867494415982)\n"
     ]
    },
    {
     "data": {
      "text/plain": [
       "'criptografia uhul!'"
      ]
     },
     "execution_count": 3,
     "metadata": {},
     "output_type": "execute_result"
    }
   ],
   "source": [
    "koblitz_decode(koblitz_encode(E, 'criptografia uhul!'))"
   ]
  },
  {
   "cell_type": "code",
   "execution_count": 90,
   "metadata": {},
   "outputs": [],
   "source": [
    "def generate_keys(E):\n",
    "    N = E.cardinality()\n",
    "    print(N)\n",
    "    a = ZZ.random_element(N)\n",
    "    while gcd(a, N) != 1:\n",
    "        print(a)\n",
    "        a = ZZ.random_element(N)\n",
    "    return [a, power_mod(a, -1, N)]"
   ]
  },
  {
   "cell_type": "code",
   "execution_count": 91,
   "metadata": {},
   "outputs": [
    {
     "name": "stdout",
     "output_type": "stream",
     "text": [
      "16773749\n",
      "CPU times: user 0 ns, sys: 0 ns, total: 0 ns\n",
      "Wall time: 25 ms\n"
     ]
    }
   ],
   "source": [
    "%%time\n",
    "alice_keys = generate_keys(E)"
   ]
  },
  {
   "cell_type": "code",
   "execution_count": 29,
   "metadata": {},
   "outputs": [
    {
     "name": "stdout",
     "output_type": "stream",
     "text": [
      "6864797660130609714981900799081393217269435300143305409394463459185543183397655394245057746333217197532963996371363321113864768612440380340372808892707005449\n",
      "CPU times: user 0 ns, sys: 0 ns, total: 0 ns\n",
      "Wall time: 120 µs\n"
     ]
    }
   ],
   "source": [
    "%%time\n",
    "bob_keys = generate_keys(E)"
   ]
  },
  {
   "cell_type": "code",
   "execution_count": 30,
   "metadata": {},
   "outputs": [],
   "source": [
    "def base_point(E):\n",
    "    P = E.random_point()\n",
    "    while P.order() != E.cardinality():\n",
    "        P = E.random_point()\n",
    "        print(P)\n",
    "    return P"
   ]
  },
  {
   "cell_type": "code",
   "execution_count": 31,
   "metadata": {},
   "outputs": [
    {
     "name": "stdout",
     "output_type": "stream",
     "text": [
      "CPU times: user 844 ms, sys: 0 ns, total: 844 ms\n",
      "Wall time: 866 ms\n"
     ]
    }
   ],
   "source": [
    "%%time\n",
    "P = base_point(E)"
   ]
  },
  {
   "cell_type": "code",
   "execution_count": 32,
   "metadata": {},
   "outputs": [],
   "source": [
    "message = 'oi bob tudo bem?'"
   ]
  },
  {
   "cell_type": "code",
   "execution_count": 33,
   "metadata": {},
   "outputs": [],
   "source": [
    "PM = koblitz_encode(E, message)"
   ]
  },
  {
   "cell_type": "code",
   "execution_count": 34,
   "metadata": {},
   "outputs": [],
   "source": [
    "bob_PM = bob_keys[1] * PM"
   ]
  },
  {
   "cell_type": "code",
   "execution_count": 35,
   "metadata": {
    "scrolled": true
   },
   "outputs": [
    {
     "data": {
      "text/plain": [
       "'9\\x94w\\x16\\xad\\x0ew\\xfe\\xe4\\xca\\xbe\\xbdd\\xf3\\x81\\x01W\\xd6\\xa7w,\\xe3\\x86\\x805\\x99\\xb6\\xf7z\\xffx\\xba\\x03\\xb3K\\xc5\\x8d\\xcc\\t\\x95\\x10\\x01e5\\xe1P\\x18\\xef\\xdfU\\xbd\\x16\\x9br\\xad\\xf7\\xc6inHb\\xaa\\x94T'"
      ]
     },
     "execution_count": 35,
     "metadata": {},
     "output_type": "execute_result"
    }
   ],
   "source": [
    "koblitz_decode(bob_PM)"
   ]
  },
  {
   "cell_type": "code",
   "execution_count": 36,
   "metadata": {},
   "outputs": [
    {
     "data": {
      "text/plain": [
       "('oi bob tudo bem?',\n",
       " '9\\x94w\\x16\\xad\\x0ew\\xfe\\xe4\\xca\\xbe\\xbdd\\xf3\\x81\\x01W\\xd6\\xa7w,\\xe3\\x86\\x805\\x99\\xb6\\xf7z\\xffx\\xba\\x03\\xb3K\\xc5\\x8d\\xcc\\t\\x95\\x10\\x01e5\\xe1P\\x18\\xef\\xdfU\\xbd\\x16\\x9br\\xad\\xf7\\xc6inHb\\xaa\\x94T',\n",
       " 'oi bob tudo bem?')"
      ]
     },
     "execution_count": 36,
     "metadata": {},
     "output_type": "execute_result"
    }
   ],
   "source": [
    "koblitz_decode(bob_PM * bob_keys[0]), koblitz_decode(bob_PM), koblitz_decode(PM)"
   ]
  },
  {
   "cell_type": "code",
   "execution_count": null,
   "metadata": {},
   "outputs": [],
   "source": []
  },
  {
   "cell_type": "code",
   "execution_count": 7,
   "metadata": {},
   "outputs": [],
   "source": [
    "p = next_prime(2**24)"
   ]
  },
  {
   "cell_type": "code",
   "execution_count": 8,
   "metadata": {},
   "outputs": [
    {
     "data": {
      "text/plain": [
       "16777259"
      ]
     },
     "execution_count": 8,
     "metadata": {},
     "output_type": "execute_result"
    }
   ],
   "source": [
    "p"
   ]
  },
  {
   "cell_type": "code",
   "execution_count": 9,
   "metadata": {},
   "outputs": [],
   "source": [
    "k = GF(p)\n",
    "a = k(3)\n",
    "b = k(7)\n",
    "E = EllipticCurve([a,b], k)"
   ]
  },
  {
   "cell_type": "code",
   "execution_count": 10,
   "metadata": {},
   "outputs": [
    {
     "data": {
      "text/plain": [
       "Elliptic Curve defined by y^2 = x^3 + 3*x + 7 over Finite Field of size 16777259"
      ]
     },
     "execution_count": 10,
     "metadata": {},
     "output_type": "execute_result"
    }
   ],
   "source": [
    "E"
   ]
  },
  {
   "cell_type": "code",
   "execution_count": 11,
   "metadata": {},
   "outputs": [],
   "source": [
    "n = E.cardinality()"
   ]
  },
  {
   "cell_type": "code",
   "execution_count": 12,
   "metadata": {},
   "outputs": [
    {
     "data": {
      "text/plain": [
       "16773749"
      ]
     },
     "execution_count": 12,
     "metadata": {},
     "output_type": "execute_result"
    }
   ],
   "source": [
    "n"
   ]
  },
  {
   "cell_type": "code",
   "execution_count": 13,
   "metadata": {},
   "outputs": [
    {
     "data": {
      "text/plain": [
       "'\\xff'"
      ]
     },
     "execution_count": 13,
     "metadata": {},
     "output_type": "execute_result"
    }
   ],
   "source": [
    "chr(255)"
   ]
  },
  {
   "cell_type": "code",
   "execution_count": 14,
   "metadata": {},
   "outputs": [
    {
     "ename": "TypeError",
     "evalue": "ord() expected a character, but string of length 2 found",
     "output_type": "error",
     "traceback": [
      "\u001b[0;31m---------------------------------------------------------------------------\u001b[0m",
      "\u001b[0;31mTypeError\u001b[0m                                 Traceback (most recent call last)",
      "\u001b[0;32m<ipython-input-14-4368c06a87b0>\u001b[0m in \u001b[0;36m<module>\u001b[0;34m()\u001b[0m\n\u001b[0;32m----> 1\u001b[0;31m \u001b[0mord\u001b[0m\u001b[0;34m(\u001b[0m\u001b[0;34m'ã'\u001b[0m\u001b[0;34m)\u001b[0m\u001b[0;34m\u001b[0m\u001b[0m\n\u001b[0m",
      "\u001b[0;31mTypeError\u001b[0m: ord() expected a character, but string of length 2 found"
     ]
    }
   ],
   "source": [
    "ord('ã')"
   ]
  },
  {
   "cell_type": "code",
   "execution_count": 37,
   "metadata": {},
   "outputs": [
    {
     "data": {
      "text/plain": [
       "14844120"
      ]
     },
     "execution_count": 37,
     "metadata": {},
     "output_type": "execute_result"
    }
   ],
   "source": [
    "x = 2699100\n",
    "s1 = x ** 3\n",
    "s2 = a * x\n",
    "(s1 + s2) %p"
   ]
  },
  {
   "cell_type": "code",
   "execution_count": 49,
   "metadata": {},
   "outputs": [
    {
     "data": {
      "text/plain": [
       "6746820"
      ]
     },
     "execution_count": 49,
     "metadata": {},
     "output_type": "execute_result"
    }
   ],
   "source": [
    "(x ** 3) % p"
   ]
  },
  {
   "cell_type": "code",
   "execution_count": 82,
   "metadata": {},
   "outputs": [
    {
     "name": "stdout",
     "output_type": "stream",
     "text": [
      "(0, 286058, 6482268)\n",
      "(1, 286059, 10024850)\n",
      "(2, 286060, 15283786)\n",
      "(3, 286061, 5481823)\n",
      "(4, 286062, 14173485)\n",
      "(5, 286063, 7804260)\n",
      "(6, 286064, 3151413)\n",
      "(7, 286065, 214950)\n",
      "(8, 286066, 15772136)\n",
      "(9, 286067, 16268459)\n",
      "(10, 286068, 1703925)\n"
     ]
    },
    {
     "data": {
      "text/plain": [
       "(286068 : 11036797 : 1)"
      ]
     },
     "execution_count": 82,
     "metadata": {},
     "output_type": "execute_result"
    }
   ],
   "source": [
    "koblitz_encode(E,'acab')"
   ]
  },
  {
   "cell_type": "code",
   "execution_count": 89,
   "metadata": {},
   "outputs": [],
   "source": [
    "P = E([1284903, 10451987])"
   ]
  },
  {
   "cell_type": "code",
   "execution_count": 87,
   "metadata": {},
   "outputs": [
    {
     "data": {
      "text/plain": [
       "(1284903 : 10451987 : 1)"
      ]
     },
     "execution_count": 87,
     "metadata": {},
     "output_type": "execute_result"
    }
   ],
   "source": [
    "P"
   ]
  },
  {
   "cell_type": "code",
   "execution_count": 69,
   "metadata": {},
   "outputs": [
    {
     "name": "stdout",
     "output_type": "stream",
     "text": [
      "(0, 822400, 1232128)\n"
     ]
    },
    {
     "data": {
      "text/plain": [
       "'  '"
      ]
     },
     "execution_count": 69,
     "metadata": {},
     "output_type": "execute_result"
    }
   ],
   "source": [
    "koblitz_decode(koblitz_encode(E, '  '))"
   ]
  },
  {
   "cell_type": "code",
   "execution_count": 116,
   "metadata": {},
   "outputs": [
    {
     "data": {
      "text/plain": [
       "8"
      ]
     },
     "execution_count": 116,
     "metadata": {},
     "output_type": "execute_result"
    }
   ],
   "source": [
    "power_mod(5, 3, 13)"
   ]
  },
  {
   "cell_type": "code",
   "execution_count": 119,
   "metadata": {},
   "outputs": [
    {
     "data": {
      "text/plain": [
       "1"
      ]
     },
     "execution_count": 119,
     "metadata": {},
     "output_type": "execute_result"
    }
   ],
   "source": [
    "(5 * 5 * 5 * 5) % 13"
   ]
  }
 ],
 "metadata": {
  "kernelspec": {
   "display_name": "SageMath 8.8",
   "language": "sage",
   "name": "sagemath"
  },
  "language_info": {
   "codemirror_mode": {
    "name": "ipython",
    "version": 2
   },
   "file_extension": ".py",
   "mimetype": "text/x-python",
   "name": "python",
   "nbconvert_exporter": "python",
   "pygments_lexer": "ipython2",
   "version": "2.7.15"
  }
 },
 "nbformat": 4,
 "nbformat_minor": 2
}
