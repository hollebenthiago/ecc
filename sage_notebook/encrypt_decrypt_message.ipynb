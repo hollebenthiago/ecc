{
 "cells": [
  {
   "cell_type": "code",
   "execution_count": 1,
   "metadata": {},
   "outputs": [],
   "source": [
    "def koblitz_encode(E, string):\n",
    "    A = E.a4()\n",
    "    B = E.a6()\n",
    "    p = E.base_field().cardinality()\n",
    "    b = 2^8\n",
    "    m = str(string)\n",
    "    n = len(m)\n",
    "    m = sum(ord(m[k]) * b^k for k in range(n))\n",
    "    d = 100\n",
    "    for j in range(d):\n",
    "        x = (d * m + j) % p\n",
    "        s = (x^3 + A * x + B) % p\n",
    "        if s == power_mod(s, int((p+1)/2), p):\n",
    "            y = power_mod(s, int((p+1)/4), p)\n",
    "            return (E([x,y]))\n",
    "        \n",
    "def koblitz_decode(P):\n",
    "    b = 2^8\n",
    "    d = 100\n",
    "    lst = []\n",
    "    m = int((floor((P[0]/P[2])))/d)\n",
    "#     print(m)\n",
    "    while m != 0:\n",
    "        lst.append(chr(m % b))\n",
    "        m //= b\n",
    "        m = int(m)\n",
    "#         print(m)\n",
    "    return ''.join(lst)"
   ]
  },
  {
   "cell_type": "code",
   "execution_count": 2,
   "metadata": {},
   "outputs": [],
   "source": [
    "p = 2^521 - 1\n",
    "# proof.arithmetic(False)\n",
    "F = GF(p)\n",
    "A = p-3\n",
    "B = 1093849038073734274511112390766805569936207598951683748994586394495953116150735016013708737573759623248592132296706313309438452531591012912142327488478985984\n",
    "q = 6864797660130609714981900799081393217269435300143305409394463459185543183397655394245057746333217197532963996371363321113864768612440380340372808892707005449\n",
    "\n",
    "E = EllipticCurve([F(A), F(B)])"
   ]
  },
  {
   "cell_type": "code",
   "execution_count": 3,
   "metadata": {},
   "outputs": [
    {
     "data": {
      "text/plain": [
       "'criptografia uhul!'"
      ]
     },
     "execution_count": 3,
     "metadata": {},
     "output_type": "execute_result"
    }
   ],
   "source": [
    "koblitz_decode(koblitz_encode(E, 'criptografia uhul!'))"
   ]
  },
  {
   "cell_type": "code",
   "execution_count": 4,
   "metadata": {},
   "outputs": [],
   "source": [
    "def generate_keys(E):\n",
    "    N = E.cardinality()\n",
    "    print(N)\n",
    "    a = ZZ.random_element(N)\n",
    "    while gcd(a, N) != 1:\n",
    "        print(a)\n",
    "        a = ZZ.random_element(N)\n",
    "    return [a, power_mod(a, -1, N)]"
   ]
  },
  {
   "cell_type": "code",
   "execution_count": 5,
   "metadata": {},
   "outputs": [
    {
     "name": "stdout",
     "output_type": "stream",
     "text": [
      "6864797660130609714981900799081393217269435300143305409394463459185543183397655394245057746333217197532963996371363321113864768612440380340372808892707005449\n",
      "CPU times: user 4min 22s, sys: 125 ms, total: 4min 22s\n",
      "Wall time: 4min 23s\n"
     ]
    }
   ],
   "source": [
    "%%time\n",
    "alice_keys = generate_keys(E)"
   ]
  },
  {
   "cell_type": "code",
   "execution_count": 6,
   "metadata": {},
   "outputs": [
    {
     "name": "stdout",
     "output_type": "stream",
     "text": [
      "6864797660130609714981900799081393217269435300143305409394463459185543183397655394245057746333217197532963996371363321113864768612440380340372808892707005449\n",
      "CPU times: user 0 ns, sys: 0 ns, total: 0 ns\n",
      "Wall time: 131 µs\n"
     ]
    }
   ],
   "source": [
    "%%time\n",
    "bob_keys = generate_keys(E)"
   ]
  },
  {
   "cell_type": "code",
   "execution_count": 7,
   "metadata": {},
   "outputs": [],
   "source": [
    "def base_point(E):\n",
    "    P = E.random_point()\n",
    "    while P.order() != E.cardinality():\n",
    "        P = E.random_point()\n",
    "        print(P)\n",
    "    return P"
   ]
  },
  {
   "cell_type": "code",
   "execution_count": 8,
   "metadata": {},
   "outputs": [
    {
     "name": "stdout",
     "output_type": "stream",
     "text": [
      "CPU times: user 828 ms, sys: 0 ns, total: 828 ms\n",
      "Wall time: 841 ms\n"
     ]
    }
   ],
   "source": [
    "%%time\n",
    "P = base_point(E)"
   ]
  },
  {
   "cell_type": "code",
   "execution_count": 9,
   "metadata": {},
   "outputs": [],
   "source": [
    "message = 'oi bob tudo bem?'"
   ]
  },
  {
   "cell_type": "code",
   "execution_count": 10,
   "metadata": {},
   "outputs": [],
   "source": [
    "PM = koblitz_encode(E, message)"
   ]
  },
  {
   "cell_type": "code",
   "execution_count": 11,
   "metadata": {},
   "outputs": [],
   "source": [
    "bob_PM = bob_keys[1] * PM"
   ]
  },
  {
   "cell_type": "code",
   "execution_count": 12,
   "metadata": {},
   "outputs": [
    {
     "data": {
      "text/plain": [
       "'\\xde2(\\x8b\\x01\\x0bC\\xcf\\x91\\x10\\xae\\x86*\\xf1\\x9e\\x82\\x83y\\x1f4\\x9e\\x12\\xd7J\\xfdQ\\r\\x8b\\x198\\xf4\\xc5\\xf3n\\xb7\\x94\\x80\\xd4c\\xe1\\xd6\\x05Zt\\xefS\\xb5Z\\xf9\\x90\\xfe\\xf1\\xf2\\xa2\\xe9&DZ\\x9b\\x14\\x06|\\x12\\xc8\\x02'"
      ]
     },
     "execution_count": 12,
     "metadata": {},
     "output_type": "execute_result"
    }
   ],
   "source": [
    "koblitz_decode(bob_PM)"
   ]
  },
  {
   "cell_type": "code",
   "execution_count": 13,
   "metadata": {},
   "outputs": [
    {
     "data": {
      "text/plain": [
       "('oi bob tudo bem?',\n",
       " '\\xde2(\\x8b\\x01\\x0bC\\xcf\\x91\\x10\\xae\\x86*\\xf1\\x9e\\x82\\x83y\\x1f4\\x9e\\x12\\xd7J\\xfdQ\\r\\x8b\\x198\\xf4\\xc5\\xf3n\\xb7\\x94\\x80\\xd4c\\xe1\\xd6\\x05Zt\\xefS\\xb5Z\\xf9\\x90\\xfe\\xf1\\xf2\\xa2\\xe9&DZ\\x9b\\x14\\x06|\\x12\\xc8\\x02',\n",
       " 'oi bob tudo bem?')"
      ]
     },
     "execution_count": 13,
     "metadata": {},
     "output_type": "execute_result"
    }
   ],
   "source": [
    "koblitz_decode(bob_PM * bob_keys[0]), koblitz_decode(bob_PM), koblitz_decode(PM)"
   ]
  },
  {
   "cell_type": "code",
   "execution_count": 14,
   "metadata": {},
   "outputs": [
    {
     "ename": "ImportError",
     "evalue": "No module named playsound",
     "output_type": "error",
     "traceback": [
      "\u001b[0;31m---------------------------------------------------------------------------\u001b[0m",
      "\u001b[0;31mImportError\u001b[0m                               Traceback (most recent call last)",
      "\u001b[0;32m<ipython-input-14-a257e674c698>\u001b[0m in \u001b[0;36m<module>\u001b[0;34m()\u001b[0m\n\u001b[0;32m----> 1\u001b[0;31m \u001b[0;32mfrom\u001b[0m \u001b[0mplaysound\u001b[0m \u001b[0;32mimport\u001b[0m \u001b[0mplaysound\u001b[0m\u001b[0;34m\u001b[0m\u001b[0m\n\u001b[0m",
      "\u001b[0;31mImportError\u001b[0m: No module named playsound"
     ]
    }
   ],
   "source": [
    "from playsound import playsound"
   ]
  },
  {
   "cell_type": "code",
   "execution_count": null,
   "metadata": {},
   "outputs": [],
   "source": [
    "# !pip3 install playsound"
   ]
  },
  {
   "cell_type": "code",
   "execution_count": 15,
   "metadata": {},
   "outputs": [
    {
     "ename": "ImportError",
     "evalue": "No module named playsound",
     "output_type": "error",
     "traceback": [
      "\u001b[0;31m---------------------------------------------------------------------------\u001b[0m",
      "\u001b[0;31mImportError\u001b[0m                               Traceback (most recent call last)",
      "\u001b[0;32m<ipython-input-15-a257e674c698>\u001b[0m in \u001b[0;36m<module>\u001b[0;34m()\u001b[0m\n\u001b[0;32m----> 1\u001b[0;31m \u001b[0;32mfrom\u001b[0m \u001b[0mplaysound\u001b[0m \u001b[0;32mimport\u001b[0m \u001b[0mplaysound\u001b[0m\u001b[0;34m\u001b[0m\u001b[0m\n\u001b[0m",
      "\u001b[0;31mImportError\u001b[0m: No module named playsound"
     ]
    }
   ],
   "source": [
    "from playsound import playsound"
   ]
  },
  {
   "cell_type": "code",
   "execution_count": null,
   "metadata": {},
   "outputs": [],
   "source": []
  }
 ],
 "metadata": {
  "kernelspec": {
   "display_name": "SageMath 8.8",
   "language": "sage",
   "name": "sagemath"
  },
  "language_info": {
   "codemirror_mode": {
    "name": "ipython",
    "version": 2
   },
   "file_extension": ".py",
   "mimetype": "text/x-python",
   "name": "python",
   "nbconvert_exporter": "python",
   "pygments_lexer": "ipython2",
   "version": "2.7.15"
  }
 },
 "nbformat": 4,
 "nbformat_minor": 2
}
